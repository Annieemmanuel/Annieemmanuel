{
  "nbformat": 4,
  "nbformat_minor": 0,
  "metadata": {
    "colab": {
      "name": "sentence_similarity.ipynb",
      "provenance": [],
      "authorship_tag": "ABX9TyMLTyGs2iacFTQbBtDOQhn9",
      "include_colab_link": true
    },
    "kernelspec": {
      "name": "python3",
      "display_name": "Python 3"
    },
    "language_info": {
      "name": "python"
    }
  },
  "cells": [
    {
      "cell_type": "markdown",
      "metadata": {
        "id": "view-in-github",
        "colab_type": "text"
      },
      "source": [
        "<a href=\"https://colab.research.google.com/github/Annieemmanuel/Annieemmanuel/blob/main/sentence_similarity.ipynb\" target=\"_parent\"><img src=\"https://colab.research.google.com/assets/colab-badge.svg\" alt=\"Open In Colab\"/></a>"
      ]
    },
    {
      "cell_type": "code",
      "source": [
        "!pip install sentence_transformers"
      ],
      "metadata": {
        "id": "YVYE9cd7o-y-"
      },
      "execution_count": null,
      "outputs": []
    },
    {
      "cell_type": "code",
      "source": [
        "from sentence_transformers import SentenceTransformer"
      ],
      "metadata": {
        "id": "f_wjqSZbog80"
      },
      "execution_count": 2,
      "outputs": []
    },
    {
      "cell_type": "code",
      "source": [
        "model=SentenceTransformer(model_name)"
      ],
      "metadata": {
        "id": "a8Y1RoF8opy2"
      },
      "execution_count": 16,
      "outputs": []
    },
    {
      "cell_type": "code",
      "source": [
        "sentence_vecs=model.encode(sentences)\n"
      ],
      "metadata": {
        "id": "xav1IqIiop7a"
      },
      "execution_count": 17,
      "outputs": []
    },
    {
      "cell_type": "code",
      "source": [
        "from sklearn.metrics.pairwise import cosine_similarity"
      ],
      "metadata": {
        "id": "M6ax3YTapYix"
      },
      "execution_count": 18,
      "outputs": []
    },
    {
      "cell_type": "code",
      "source": [
        "cosine_similarity(\n",
        "    [sentence_vecs[0]],\n",
        "    sentence_vecs[1: ]\n",
        "\n",
        ")"
      ],
      "metadata": {
        "id": "544AXZjPpk9u"
      },
      "execution_count": null,
      "outputs": []
    },
    {
      "cell_type": "code",
      "execution_count": 15,
      "metadata": {
        "id": "eAwc8Ljnngij"
      },
      "outputs": [],
      "source": [
        "sentences= [\n",
        "            \"I am a girl and i dont like pink\",\n",
        "            \"Lisa is a very good girl\",\n",
        "            \"Not all girls like pink.\",\n",
        "            \"I am a girl and i dont like pink.\"\n",
        "]\n",
        "           \n",
        "\n",
        "model_name='bert-base-nli-mean-tokens'"
      ]
    }
  ]
}
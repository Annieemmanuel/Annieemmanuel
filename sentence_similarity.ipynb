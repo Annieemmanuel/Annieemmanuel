{
  "nbformat": 4,
  "nbformat_minor": 0,
  "metadata": {
    "colab": {
      "name": "sentence_similarity.ipynb",
      "provenance": [],
      "authorship_tag": "ABX9TyNplBSd+ySHtM2zBWWIwNZi",
      "include_colab_link": true
    },
    "kernelspec": {
      "name": "python3",
      "display_name": "Python 3"
    },
    "language_info": {
      "name": "python"
    }
  },
  "cells": [
    {
      "cell_type": "markdown",
      "metadata": {
        "id": "view-in-github",
        "colab_type": "text"
      },
      "source": [
        "<a href=\"https://colab.research.google.com/github/Annieemmanuel/Annieemmanuel/blob/main/sentence_similarity.ipynb\" target=\"_parent\"><img src=\"https://colab.research.google.com/assets/colab-badge.svg\" alt=\"Open In Colab\"/></a>"
      ]
    },
    {
      "cell_type": "code",
      "source": [
        "!pip install sentence_transformers"
      ],
      "metadata": {
        "id": "YVYE9cd7o-y-"
      },
      "execution_count": null,
      "outputs": []
    },
    {
      "cell_type": "code",
      "source": [
        "from sentence_transformers import SentenceTransformer"
      ],
      "metadata": {
        "id": "f_wjqSZbog80"
      },
      "execution_count": 2,
      "outputs": []
    },
    {
      "cell_type": "code",
      "execution_count": 20,
      "metadata": {
        "id": "eAwc8Ljnngij"
      },
      "outputs": [],
      "source": [
        "sentences= [\n",
        "            \"I am a girl and i dont like pink\",\n",
        "            \"Lisa is a very good girl\",\n",
        "            \"Not all girls like pink.\",\n",
        "            \"I am a girl and i dont like pink.\"\n",
        "]\n",
        "           \n",
        "\n",
        "model_name='bert-base-nli-mean-tokens'"
      ]
    },
    {
      "cell_type": "code",
      "source": [
        "bert_model=SentenceTransformer(model_name)"
      ],
      "metadata": {
        "id": "a8Y1RoF8opy2"
      },
      "execution_count": 21,
      "outputs": []
    },
    {
      "cell_type": "code",
      "source": [
        "embedding=bert_model.encode(sentences)\n"
      ],
      "metadata": {
        "id": "xav1IqIiop7a"
      },
      "execution_count": 22,
      "outputs": []
    },
    {
      "cell_type": "code",
      "source": [
        "from sklearn.metrics.pairwise import cosine_similarity"
      ],
      "metadata": {
        "id": "M6ax3YTapYix"
      },
      "execution_count": 18,
      "outputs": []
    },
    {
      "cell_type": "code",
      "source": [
        "cosine_similarity(\n",
        "    [embedding[0]],\n",
        "    embedding[1: ]\n",
        "\n",
        ")"
      ],
      "metadata": {
        "id": "544AXZjPpk9u"
      },
      "execution_count": null,
      "outputs": []
    }
  ]
}